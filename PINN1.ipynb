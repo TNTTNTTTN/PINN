{
  "nbformat": 4,
  "nbformat_minor": 0,
  "metadata": {
    "colab": {
      "provenance": [],
      "gpuType": "T4",
      "authorship_tag": "ABX9TyP+nnsMg31vd1bSWg9A3BO4",
      "include_colab_link": true
    },
    "kernelspec": {
      "name": "python3",
      "display_name": "Python 3"
    },
    "language_info": {
      "name": "python"
    },
    "accelerator": "GPU"
  },
  "cells": [
    {
      "cell_type": "markdown",
      "metadata": {
        "id": "view-in-github",
        "colab_type": "text"
      },
      "source": [
        "<a href=\"https://colab.research.google.com/github/TNTTNTTTN/PINN/blob/main/PINN1.ipynb\" target=\"_parent\"><img src=\"https://colab.research.google.com/assets/colab-badge.svg\" alt=\"Open In Colab\"/></a>"
      ]
    },
    {
      "cell_type": "code",
      "execution_count": null,
      "metadata": {
        "id": "d4UMfdCrLMFR"
      },
      "outputs": [],
      "source": [
        "import numpy as np\n",
        "import matplotlib.pyplot as plt\n",
        "import tensorflow as tf\n",
        "import random\n",
        "\n",
        "from tensorflow.keras.models import Sequential\n",
        "from tensorflow.keras.layers import Dense, Input\n",
        "from tensorflow.keras.optimizers import Adam\n"
      ]
    },
    {
      "cell_type": "code",
      "source": [
        "NN = Sequential()\n",
        "NN.add(Input(1,))\n",
        "NN.add(Dense(32, activation='tanh'))\n",
        "NN.add(Dense(32, activation='tanh'))\n",
        "NN.add(Dense(32, activation='tanh'))\n",
        "NN.add(Dense(1))\n",
        "\n",
        "optm = Adam(learning_rate = 0.001)\n",
        "\n",
        "NN.summary()"
      ],
      "metadata": {
        "colab": {
          "base_uri": "https://localhost:8080/"
        },
        "id": "sM3ndEcpMiPk",
        "outputId": "b6850d38-1a67-447f-849a-7d47bdf0c77a"
      },
      "execution_count": null,
      "outputs": [
        {
          "output_type": "stream",
          "name": "stdout",
          "text": [
            "Model: \"sequential_1\"\n",
            "_________________________________________________________________\n",
            " Layer (type)                Output Shape              Param #   \n",
            "=================================================================\n",
            " dense_2 (Dense)             (None, 32)                64        \n",
            "                                                                 \n",
            " dense_3 (Dense)             (None, 32)                1056      \n",
            "                                                                 \n",
            " dense_4 (Dense)             (None, 32)                1056      \n",
            "                                                                 \n",
            " dense_5 (Dense)             (None, 1)                 33        \n",
            "                                                                 \n",
            "=================================================================\n",
            "Total params: 2209 (8.63 KB)\n",
            "Trainable params: 2209 (8.63 KB)\n",
            "Non-trainable params: 0 (0.00 Byte)\n",
            "_________________________________________________________________\n"
          ]
        }
      ]
    },
    {
      "cell_type": "code",
      "source": [
        "def ode_system(t, net):\n",
        "    t = t.reshape(-1,1)\n",
        "    t = tf.constant(t, dtype = tf.float32)\n",
        "    t_0 = tf.zeros((1,1))\n",
        "    one = tf.ones((1,1))\n",
        "\n",
        "    with tf.GradientTape() as tape:\n",
        "        tape.watch(t)\n",
        "\n",
        "        u = net(t)\n",
        "        u_t = tape.gradient(u, t)\n",
        "\n",
        "    ode_loss = u_t - tf.math.cos(2*np.pi*t)\n",
        "    IC_loss = net(t_0) - one\n",
        "\n",
        "    square_loss = tf.square(ode_loss) + tf.square(IC_loss)\n",
        "    total_loss = tf.reduce_mean(square_loss)\n",
        "\n",
        "    return total_loss"
      ],
      "metadata": {
        "id": "6IislIC-Xwr8"
      },
      "execution_count": null,
      "outputs": []
    },
    {
      "cell_type": "code",
      "source": [
        "train_t = (np.random.rand(30)).reshape(-1, 1)\n",
        "train_loss_record = []\n",
        "\n",
        "for itr in range(6000):\n",
        "    with tf.GradientTape() as tape:\n",
        "        train_loss = ode_system(train_t, NN)\n",
        "        train_loss_record.append(train_loss)\n",
        "\n",
        "        grad_w = tape.gradient(train_loss, NN.trainable_variables)\n",
        "        optm.apply_gradients(zip(grad_w, NN.trainable_variables))\n",
        "\n",
        "    if itr % 1000 == 0:\n",
        "        print(train_loss.numpy())\n",
        "\n",
        "plt.figure(figsize = (10,8))\n",
        "plt.plot(train_loss_record)\n",
        "plt.show()"
      ],
      "metadata": {
        "colab": {
          "base_uri": "https://localhost:8080/",
          "height": 835
        },
        "id": "uX7-l2cKbTt_",
        "outputId": "46e3fcc1-7f18-4329-b016-1adb7820c59b"
      },
      "execution_count": null,
      "outputs": [
        {
          "output_type": "stream",
          "name": "stderr",
          "text": [
            "WARNING:tensorflow:5 out of the last 5 calls to <function _BaseOptimizer._update_step_xla at 0x7904ce13fa30> triggered tf.function retracing. Tracing is expensive and the excessive number of tracings could be due to (1) creating @tf.function repeatedly in a loop, (2) passing tensors with different shapes, (3) passing Python objects instead of tensors. For (1), please define your @tf.function outside of the loop. For (2), @tf.function has reduce_retracing=True option that can avoid unnecessary retracing. For (3), please refer to https://www.tensorflow.org/guide/function#controlling_retracing and https://www.tensorflow.org/api_docs/python/tf/function for  more details.\n",
            "WARNING:tensorflow:6 out of the last 6 calls to <function _BaseOptimizer._update_step_xla at 0x7904ce13fa30> triggered tf.function retracing. Tracing is expensive and the excessive number of tracings could be due to (1) creating @tf.function repeatedly in a loop, (2) passing tensors with different shapes, (3) passing Python objects instead of tensors. For (1), please define your @tf.function outside of the loop. For (2), @tf.function has reduce_retracing=True option that can avoid unnecessary retracing. For (3), please refer to https://www.tensorflow.org/guide/function#controlling_retracing and https://www.tensorflow.org/api_docs/python/tf/function for  more details.\n"
          ]
        },
        {
          "output_type": "stream",
          "name": "stdout",
          "text": [
            "1.401823\n",
            "8.528233e-05\n",
            "3.3310847e-05\n",
            "2.0472873e-05\n",
            "1.3123934e-05\n",
            "1.1546496e-05\n"
          ]
        },
        {
          "output_type": "display_data",
          "data": {
            "text/plain": [
              "<Figure size 1000x800 with 1 Axes>"
            ],
            "image/png": "[encoded data removed]"
          },
          "metadata": {}
        }
      ]
    }
  ]
}